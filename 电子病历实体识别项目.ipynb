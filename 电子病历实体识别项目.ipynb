{
 "cells": [
  {
   "cell_type": "markdown",
   "metadata": {},
   "source": [
    "## 电子病历实体识别项目背景"
   ]
  },
  {
   "cell_type": "markdown",
   "metadata": {},
   "source": [
    "构建高质量的标注语料库对电子病历命名实体识别和实体关系抽取至关重要,然而中文电子病历信息抽取研究领域还没有一个标注完整、规模较大、开放共享的命名实体和实体关系标注语料库。"
   ]
  },
  {
   "cell_type": "markdown",
   "metadata": {},
   "source": [
    "患者的电子病历贯穿医疗活动的始终，是医疗信息系统的核心数据。电子病历(ElectronicMedicalRecord，EMR)是指医务人员在医疗活动过程中，使用医疗机构信息系统生成的文字、符号、图表、图形、数据、影像等数字化信息，并能实现存储、管理、传输和重现的医疗记录，是由医务人员撰写的面向患者个体描述医疗活动的记录。"
   ]
  },
  {
   "cell_type": "markdown",
   "metadata": {},
   "source": [
    "电子病历由医务专业人员撰写,不仅仅是具有法律效力的医疗活动证据,而且包含大量的专业医疗知识。通过分析电子病历能挖掘出这些与患者密切相关的医疗知识,这种认识早已获得共识。\n",
    "\n",
    "    比如,某患者电子病历中,“头CT检查显示腔隙性脑梗死”。在这句话中,“头CT”是检查手段,“腔隙性脑梗死”是疾病,这二者在电子病历信息抽取研究中被称为命名实体或概念,这两个实体间的关系是“头CT”证实了“腔隙性脑梗死”的发生,或者说“腔隙性脑梗死”可以通过“头CT”这种检查手段得到确认。\n",
    "    \n",
    "从电子病历里自动挖掘这些知识就是要自动识别电子病历文本中与患者健康密切相关的各类命名实体以及实体间的关系。"
   ]
  },
  {
   "cell_type": "markdown",
   "metadata": {},
   "source": [
    "项目研究分为两个阶段：\n",
    "1. 自然语言处理：关注病历文本的预处理,包括句子边界识别、词性标注、句法分析等\n",
    "2. 信息抽取：关注病历文本中各类表达医疗知识的命名实体或医疗概念的识别和关系抽取"
   ]
  },
  {
   "cell_type": "markdown",
   "metadata": {},
   "source": [
    "医学信息学可简单定义为系统地处理有关药品和临床治疗的信息、数据和知识的新兴学科，其两个重要分支,临床信息学(Clinica Informatics)、用户健康信息学(ConsumerHealthInformatics),都与电子病历信息抽取密切相关。"
   ]
  },
  {
   "cell_type": "markdown",
   "metadata": {},
   "source": [
    "电子病历主要有两类,即门诊病历和住院病历。门诊病历通常较短,包含信息较少,也缺乏对患者治疗情况的跟踪,因而电子病历信息抽取研究大多关注于住院病历,并且只限于文本数据的挖掘。如不明确说明,本文所指的电子病历均指住院病历。\n",
    "\n",
    "<span class=\"mark\">电子病历并不是完全结构化的数据,还包括一些自由文本(半结构或无结构)数据</span>,如病程记录和出院小结等。这种文本信息方便表达概念以及事件等,是临床治疗过程的主要记录形式。"
   ]
  },
  {
   "cell_type": "markdown",
   "metadata": {},
   "source": [
    "由于病历文本的特殊性以及统计机器学习方法的固有局限性,开放领域的研究成果很难应用于病历文本之上。因而,展开电子病历命名实体识别和实体关系抽取研究首先就是<span class=\"mark\">构建标注语料库</span>。"
   ]
  },
  {
   "cell_type": "markdown",
   "metadata": {},
   "source": [
    "构建标注语料库有三个方面的主要原因:\n",
    "\n",
    "- 1)标注体系清晰地界定了抽取任务的目标;\n",
    "- 2)标注语料用于评价抽取系统的性能;\n",
    "- 3)标注语料用于开发抽取系统(比如训练机器学习模型)\n",
    "\n",
    "构建高质量的标注语料库对电子病历命名实体识别和实体关系抽取至关重要\n",
    "\n",
    "---"
   ]
  },
  {
   "cell_type": "markdown",
   "metadata": {},
   "source": [
    "## 电子病历命名实体和实体关系标注体系建立\n",
    "通过分析电子病历,医生针对患者的诊疗活动可以概括为:通过检查手段(做什么检查)发现疾病的表现(什么症状),给出诊断结论(什么疾病),并基于诊断结论,给出治疗措施(如何治疗)。\n",
    "\n",
    "从这个过程可以看出,医疗活动主要涉及四类重要信息:\n",
    "\n",
    "    检查、症状、疾病和治疗。"
   ]
  },
  {
   "cell_type": "markdown",
   "metadata": {},
   "source": [
    "中文病历中对患者<span class=\"mark\">症状和检查结果的描述占有相当大的比重</span>。有必要把疾病和症状分开,并且定义疾病和症状的之间关系。"
   ]
  },
  {
   "cell_type": "markdown",
   "metadata": {},
   "source": [
    "命名实体的遵循实体间不重叠、不嵌套、实体内不含有表示停顿的标点符号(比如逗号、句号、顿号等)这三个原则\n",
    "\n",
    "主要研究以下几类<span class=\"mark\">实体的识别</span>：\n",
    "1. 第一类实体是疾病(Disease)：医生根据患者的身体状况做出的诊断病体名称。\n",
    "2. 第二类实体是疾病诊断分类(DiseaseType)：比如“高血压,极高危组”中的“极高危组”\n",
    "3. 第三类实体是疾病的表现(Symptom)：不适或异常感觉和显式表达的异常检查结果\n",
    "4. 第四类实体是检查手段(Test)：支持诊断而采取的检查设备、检查程序、检查项目等\n",
    "5. 第五类实体是治疗手段(Treatment)：药物、手术等\n",
    "6. 第五类实体是修饰信息：诊断过程中的重要信息,比如肯定发生的、肯定不发生的(否认的)、可能发生的等等。这些信息在本规范中称为疾病和症状的修饰信息。患者曾经历过的治疗信息或者明确否认的既往治疗史也是临床诊断的重要信息\n",
    "    - 疾病和症状的修饰一共有七个,分别是否认(absent)、非患者本人(family)、当前的(present)、有条件的(conditional)、可能的(possible)、待证实的(hypothetical)、偶有的(occasional)。\n",
    "    - 治疗的修饰信息主要有三类,既往的(history)、否认的(absent)、当前的(present)\n",
    "    \n",
    "\n",
    "电子病历实体关系抽取研究主要关注这六类<span class=\"mark\">实体关系的抽取</span>，具体包括:\n",
    "1. 治疗和疾病之间的关系,比如治疗施加于疾病\n",
    "2. 治疗和症状之间的关系,比如为缓解症状而施加的治疗\n",
    "3. 检查和疾病之间的关系,比如检查证实疾病\n",
    "4. 检查和症状之间的关系,比如检查发现症状\n",
    "5. 疾病和症状之间的关系,比如疾病导致症状\n",
    "6. 疾病和疾病诊断分类之间的关系,该关系表示疾病的进展程度\n",
    "\n",
    "自动抽取这几类实体间的关系可以构造患者健康状况的简明摘要,医生可以预先快速的浏览病人的信息,后续再关注特定的细节。\n"
   ]
  },
  {
   "cell_type": "markdown",
   "metadata": {},
   "source": [
    "## 实体标注细节"
   ]
  },
  {
   "cell_type": "markdown",
   "metadata": {},
   "source": [
    "通常包括两部分：（1）实体边界识别；（2）确定实体类别\n",
    "\n",
    "通过分析电子病历，医生针对患者的诊疗活动可以概括为：通过患者自述（自诉症状）和检查结果（检查项目）发现疾病的表现（症状），给出诊断结论（疾病），并基于诊断结论，给出治疗措施（治疗方案）。这个过程可以看出，医疗活动主要涉及四类重要信息：症状、疾病、检查和治疗"
   ]
  },
  {
   "cell_type": "markdown",
   "metadata": {},
   "source": [
    "### 疾病DIS,DISEASE\n",
    "    受伤或中毒、病毒细菌、病理功能等\n",
    "### 疾病诊断分型DT,DISEASETYPE\n",
    "    - 失代偿期DT\n",
    "    - III期DT\n",
    "    - II型DT\n",
    "### 症状\n",
    "#### 患者向医生陈述的不适感觉(症状)SYM,SYMPTOM\n",
    "    心慌”、“气短”\n",
    "#### 医生观察到的（体征）ST\n",
    "    左下肺症病变\n",
    "### 检查TES,TEST\n",
    "    CT、血压、听诊等\n",
    "### 治疗\n",
    "#### 药品DRU,DRUG\n",
    "    奥扎格雪\n",
    "#### 手术SUR,SURGERY\n",
    "    胆囊切除术\n",
    "#### 措施(非手术，非药品的治疗)PRE,precaution\n",
    "### 实体修饰词标注\n",
    "#### 否认词(AT,,absent)\n",
    "    各瓣膜区未闻及病理性杂音、全腹无压痛、反跳痛及肌紧张：未、无\n",
    "#### 条件词(CL,conditional)\n",
    "    吃红薯后血糖升高：吃红薯后\n",
    "#### 既往信息词（PT,past）\n",
    "    有多年心脏病史、入院前3个月开始出现阵发性胸闷：入院前\n",
    "#### 时间标注统一标为TE\n",
    "    入院前3个月开始出现阵发性胸闷：3个月\n",
    "#### 程度词标注（AM,AMOUNT）\n",
    "    大小、多少、程度（明显等）\n",
    "#### 解剖位置\n",
    "    - 器官（REG，REGION）\n",
    "    - 部位词（ORG,ORGEN）\n",
    "#### 频率词（FW,FrequencyWord）\n",
    "    反复胸闷：反复\n",
    "\n",
    "---\n",
    "标注格式：\n",
    "\n",
    "突发AM\n",
    "\n",
    "头晕SYM\n",
    "\n",
    "伴O\n",
    "\n",
    "恶心SYM\n",
    "\n",
    "呕吐SYM\n",
    "\n",
    "\n",
    "tagging scheme分为两种：\n",
    " \n",
    " - IOB：I-中间或者结尾；O-无关词；B-开始\n",
    " - IOBES：I-中间或者结尾；O-无关词；B-开始；E-结束；S-single单个词\n",
    "tagging在AM，SYM等之前，比如：B-SYM，I-SYM，I-SYM，E-SYM\n",
    "\n",
    "两种方式：\n",
    "- 在标记时采用IOB\n",
    "- 训练时转换成信息更丰富的IOBES\n",
    "\n",
    "---"
   ]
  },
  {
   "cell_type": "markdown",
   "metadata": {},
   "source": [
    "## 难点"
   ]
  },
  {
   "cell_type": "markdown",
   "metadata": {},
   "source": [
    "由于基于传统正则匹配或者机器学习的方法提取的特征有限，对于大量书写用词不一的非结构化电子病历实体识别带来准确率和召回率不高的情况。电子病历具有噪音大，特殊符号，书写错误等情况存在，因此需要采用深度学习模型来对其进行实体识别。因此难点总结如下：\n",
    "\n",
    "- 如何生产深度学习可用的标签数据，给大量的医疗文本打上实体类别的标签\n",
    "- 传统的基于规则和机器学习算法的实体识别准确率不高，如何提升\n",
    "- 部分医疗实体名字特别长，如何获取更长的上下文依赖，让识别准确率更高\n",
    "- 类别不均衡，有些类别的词特别少，有些很多\n",
    "- 未登录词如何处理\n",
    "- 汉语分词和命名实体识别互相影响\n",
    "- 现代汉语文本，尤其是网络汉语文本，常出现中英文交替使用，这时汉语命名实体识别的任务还包括识别其中的英文命名实体识别\n",
    "- 不同的命名实体具有不同的内部特征，不可能用一个统一的模型来刻画所有的实体内部特征"
   ]
  },
  {
   "cell_type": "markdown",
   "metadata": {},
   "source": [
    "## 评价指标\n",
    "\n",
    "本评测采用精确率（Precision）、召回率（Recall）以及F1-Measure作为评价指标"
   ]
  }
 ],
 "metadata": {
  "kernelspec": {
   "display_name": "Python 3",
   "language": "python",
   "name": "python3"
  },
  "language_info": {
   "codemirror_mode": {
    "name": "ipython",
    "version": 3
   },
   "file_extension": ".py",
   "mimetype": "text/x-python",
   "name": "python",
   "nbconvert_exporter": "python",
   "pygments_lexer": "ipython3",
   "version": "3.6.5"
  },
  "toc": {
   "base_numbering": 1,
   "nav_menu": {},
   "number_sections": true,
   "sideBar": true,
   "skip_h1_title": false,
   "title_cell": "Table of Contents",
   "title_sidebar": "Contents",
   "toc_cell": false,
   "toc_position": {},
   "toc_section_display": true,
   "toc_window_display": false
  },
  "varInspector": {
   "cols": {
    "lenName": 16,
    "lenType": 16,
    "lenVar": 40
   },
   "kernels_config": {
    "python": {
     "delete_cmd_postfix": "",
     "delete_cmd_prefix": "del ",
     "library": "var_list.py",
     "varRefreshCmd": "print(var_dic_list())"
    },
    "r": {
     "delete_cmd_postfix": ") ",
     "delete_cmd_prefix": "rm(",
     "library": "var_list.r",
     "varRefreshCmd": "cat(var_dic_list()) "
    }
   },
   "types_to_exclude": [
    "module",
    "function",
    "builtin_function_or_method",
    "instance",
    "_Feature"
   ],
   "window_display": false
  }
 },
 "nbformat": 4,
 "nbformat_minor": 2
}
